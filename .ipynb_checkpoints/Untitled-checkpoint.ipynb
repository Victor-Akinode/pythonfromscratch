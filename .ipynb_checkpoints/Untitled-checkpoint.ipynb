{
 "cells": [
  {
   "cell_type": "markdown",
   "id": "ba7bd301",
   "metadata": {},
   "source": [
    "# COLLECTIONS"
   ]
  },
  {
   "cell_type": "code",
   "execution_count": 12,
   "id": "103c7334",
   "metadata": {},
   "outputs": [
    {
     "name": "stdout",
     "output_type": "stream",
     "text": [
      "Counter({'g': 10, 'a': 6, 'i': 6, 'b': 5, 'c': 3})\n",
      "[('g', 10)]\n",
      "g\n",
      "['a', 'a', 'a', 'a', 'a', 'a', 'b', 'b', 'b', 'b', 'b', 'c', 'c', 'c', 'g', 'g', 'g', 'g', 'g', 'g', 'g', 'g', 'g', 'g', 'i', 'i', 'i', 'i', 'i', 'i']\n"
     ]
    }
   ],
   "source": [
    "#collections: Counters, namedtuple, orderedDict, defaultdict, deque\n",
    "#Counters is a container that stores the elements as dictionary keys and values\n",
    "from collections import Counter\n",
    "a = \"aaaaaabbbbbcccggggggggggiiiiii\"\n",
    "my_counter= Counter(a)\n",
    "print(my_counter)\n",
    "\n",
    "#for most common\n",
    "print(my_counter.most_common(1))\n",
    "\n",
    "#to get the element of the tuple\n",
    "print(my_counter.most_common(1)[0][0])\n",
    "\n",
    "#to get the list of the elements\n",
    "print(list(my_counter.elements()))"
   ]
  },
  {
   "cell_type": "code",
   "execution_count": 26,
   "id": "49cdb95c",
   "metadata": {},
   "outputs": [
    {
     "name": "stdout",
     "output_type": "stream",
     "text": [
      "The name of the student is Victor He studies at  FUOYE He was born in the year 2000\n"
     ]
    }
   ],
   "source": [
    "#FOR NAMEDTUPLE\n",
    "#Like dictionaries, they contain keys that are hashed to a particular\n",
    "#value. But on contrary, it supports both access from \n",
    "#key-value and iteration, the functionality that dictionaries lack.\n",
    "from collections import namedtuple\n",
    "Student= namedtuple('Student', ['name', 'school', 'DOB'])\n",
    "data= Student('Victor', 'FUOYE', 2000)\n",
    "print(\"The name of the student is\", data[0] + \" He studies at \", data[1] + \" He was born in the year\", data[2])\n"
   ]
  },
  {
   "cell_type": "code",
   "execution_count": 30,
   "id": "3b7acd77",
   "metadata": {},
   "outputs": [
    {
     "name": "stdout",
     "output_type": "stream",
     "text": [
      "OrderedDict([('a', 1), ('e', 2), ('c', 5), ('d', 4)])\n"
     ]
    }
   ],
   "source": [
    "#ordered dict\n",
    "#this follows exact formet in your code\n",
    "from collections import OrderedDict\n",
    "ordered_dict= OrderedDict()\n",
    "ordered_dict['a'] = 1\n",
    "ordered_dict['e'] = 2\n",
    "ordered_dict['c'] = 5\n",
    "ordered_dict['d'] = 4\n",
    "print(ordered_dict)"
   ]
  },
  {
   "cell_type": "code",
   "execution_count": 35,
   "id": "dd811126",
   "metadata": {},
   "outputs": [
    {
     "name": "stdout",
     "output_type": "stream",
     "text": [
      "defaultdict(<class 'int'>, {'a': 1, 'b': 2})\n",
      "1\n"
     ]
    }
   ],
   "source": [
    "#defaultdict\n",
    "from collections import defaultdict\n",
    "d = defaultdict(int)\n",
    "#the int could be changed to things like float {} for list and so on.\n",
    "d['a'] = 1\n",
    "d['b'] = 2\n",
    "print(d)\n",
    "\n",
    "#and to access each of them\n",
    "print(d['a'])"
   ]
  },
  {
   "cell_type": "code",
   "execution_count": 46,
   "id": "62976ba2",
   "metadata": {},
   "outputs": [
    {
     "name": "stdout",
     "output_type": "stream",
     "text": [
      "deque([8, 7, 1, 2, 4, 5, 6, 9])\n"
     ]
    }
   ],
   "source": [
    "#deque\n",
    "#double ended queue that can be used to remove elements from both ends\n",
    "from collections import deque\n",
    "d = deque()\n",
    "\n",
    "#to append\n",
    "\n",
    "d.append(1)\n",
    "d.append(2)\n",
    "\n",
    "#To append to the left\n",
    "d.appendleft(3)\n",
    "\n",
    "#to remove from the left\n",
    "d.popleft()\n",
    "\n",
    "#to clear all elements\n",
    "#d.clear\n",
    "\n",
    "#to add multiple elements\n",
    "d.extend([4, 5, 6])\n",
    "#to extend to the left\n",
    "d.extendleft([7, 8, 9])\n",
    "\n",
    "#to rotate the deque. this can be done once and more passing arg of 1 and above\n",
    "#to rotate to the left use -1 and above\n",
    "d.rotate(-1)\n",
    "print(d)"
   ]
  },
  {
   "cell_type": "markdown",
   "id": "4ea48152",
   "metadata": {},
   "source": [
    "# ITERTOOLS"
   ]
  },
  {
   "cell_type": "code",
   "execution_count": 51,
   "id": "a07369ed",
   "metadata": {},
   "outputs": [
    {
     "name": "stdout",
     "output_type": "stream",
     "text": [
      "[(1, 3), (1, 4), (2, 3), (2, 4)]\n",
      "[(1, 3, 1, 3), (1, 3, 1, 4), (1, 3, 2, 3), (1, 3, 2, 4), (1, 4, 1, 3), (1, 4, 1, 4), (1, 4, 2, 3), (1, 4, 2, 4), (2, 3, 1, 3), (2, 3, 1, 4), (2, 3, 2, 3), (2, 3, 2, 4), (2, 4, 1, 3), (2, 4, 1, 4), (2, 4, 2, 3), (2, 4, 2, 4)]\n"
     ]
    }
   ],
   "source": [
    "#itertools> products, permutations, combinations, accumulate, groupby, and infinite iterators\n",
    "\n",
    "#for product\n",
    "from itertools import product\n",
    "a= [1, 2]\n",
    "b= [3, 4]\n",
    "\n",
    "c= product(a, b)\n",
    "print(list(c))\n",
    "#to repeat\n",
    "\n",
    "c= product(a,b, repeat=2)\n",
    "print(list(c))"
   ]
  },
  {
   "cell_type": "code",
   "execution_count": 54,
   "id": "9cf40bd8",
   "metadata": {},
   "outputs": [
    {
     "name": "stdout",
     "output_type": "stream",
     "text": [
      "[(1, 2, 3), (1, 3, 2), (2, 1, 3), (2, 3, 1), (3, 1, 2), (3, 2, 1)]\n",
      "[(1, 2), (1, 3), (2, 1), (2, 3), (3, 1), (3, 2)]\n"
     ]
    }
   ],
   "source": [
    "#permutations\n",
    "\n",
    "from itertools import permutations\n",
    "a= [1, 2, 3]\n",
    "perm= permutations(a)\n",
    "print(list(perm))\n",
    "\n",
    "#for a specific length\n",
    "\n",
    "perm= permutations(a, 2)\n",
    "print(list(perm))"
   ]
  },
  {
   "cell_type": "code",
   "execution_count": 58,
   "id": "870cda5f",
   "metadata": {},
   "outputs": [
    {
     "name": "stdout",
     "output_type": "stream",
     "text": [
      "[(1, 2), (1, 3), (1, 4), (2, 3), (2, 4), (3, 4)]\n",
      "[(1, 1), (1, 2), (1, 3), (1, 4), (2, 2), (2, 3), (2, 4), (3, 3), (3, 4), (4, 4)]\n"
     ]
    }
   ],
   "source": [
    "#combinations\n",
    "from itertools import combinations, combinations_with_replacement\n",
    "#with replacement helps to repeat since combination does noot repeat.\n",
    "a= [1, 2, 3, 4]\n",
    "comb= combinations(a, 2)\n",
    "\n",
    "print(list(comb))\n",
    "\n",
    "comb_wr= combinations_with_replacement(a,2)\n",
    "print(list(comb_wr))"
   ]
  },
  {
   "cell_type": "code",
   "execution_count": 66,
   "id": "b057bea8",
   "metadata": {},
   "outputs": [
    {
     "name": "stdout",
     "output_type": "stream",
     "text": [
      "[1, 2, 3, 4]\n",
      "[1, 3, 6, 10]\n",
      "[1, 2, 6, 24]\n"
     ]
    }
   ],
   "source": [
    "#for accumulate\n",
    "from itertools import accumulate\n",
    "import operator\n",
    "a= [1, 2, 3, 4]\n",
    "acc= accumulate(a)\n",
    "print(a)\n",
    "print(list(acc))\n",
    "\n",
    "#to multiply during accumulation\n",
    "#operator was first imported\n",
    "acc= accumulate(a, func=operator.mul)\n",
    "print (list(acc))\n",
    "\n",
    "#to know the max, set func to max"
   ]
  },
  {
   "cell_type": "code",
   "execution_count": 71,
   "id": "06980ed1",
   "metadata": {},
   "outputs": [
    {
     "name": "stdout",
     "output_type": "stream",
     "text": [
      "True [1, 2]\n",
      "False [3, 4]\n",
      "25 [{'name': 'Tim', 'age': 25}, {'name': 'Dan', 'age': 25}]\n",
      "27 [{'name': 'Lisa', 'age': 27}]\n",
      "28 [{'name': 'Claire', 'age': 28}]\n"
     ]
    }
   ],
   "source": [
    " #for groupby\n",
    "from itertools import groupby\n",
    "\n",
    "def smaller_than_3(x):\n",
    "    return x<3\n",
    "\n",
    "a= [1, 2, 3, 4]\n",
    "\n",
    "group_obj= groupby(a, key=smaller_than_3)\n",
    "for key, value in group_obj:\n",
    "    print(key, list(value))\n",
    "    \n",
    "\n",
    "#using lambda\n",
    "persons= [{'name': 'Tim', 'age': 25}, {'name': 'Dan', 'age': 25}, {'name': 'Lisa', 'age': 27}, {'name': 'Claire', 'age': 28}]\n",
    "\n",
    "group_obj= groupby(persons, key=lambda x: x['age'])\n",
    "for key, value in group_obj:\n",
    "    print(key, list(value))\n",
    "    "
   ]
  },
  {
   "cell_type": "code",
   "execution_count": 81,
   "id": "508d88fa",
   "metadata": {},
   "outputs": [
    {
     "name": "stdout",
     "output_type": "stream",
     "text": [
      "10\n",
      "11\n",
      "12\n",
      "13\n",
      "14\n",
      "15\n",
      "5\n",
      "5\n",
      "5\n",
      "5\n"
     ]
    }
   ],
   "source": [
    "#infinite iterators\n",
    "\n",
    "#for the count\n",
    "from itertools import count, cycle, repeat\n",
    "\n",
    "for i in count(10): #the 10 is the starting point\n",
    "    print(i)\n",
    "    if i==15:\n",
    "        break\n",
    "        \n",
    "#for cycle\n",
    "a= [1,2,3]\n",
    "# for i in cycle(a): \n",
    "#     print(i)\n",
    "\n",
    "for i in repeat(5, 4): \n",
    "     print(i)\n"
   ]
  },
  {
   "cell_type": "code",
   "execution_count": null,
   "id": "9fc9c205",
   "metadata": {},
   "outputs": [],
   "source": []
  }
 ],
 "metadata": {
  "kernelspec": {
   "display_name": "Python 3 (ipykernel)",
   "language": "python",
   "name": "python3"
  },
  "language_info": {
   "codemirror_mode": {
    "name": "ipython",
    "version": 3
   },
   "file_extension": ".py",
   "mimetype": "text/x-python",
   "name": "python",
   "nbconvert_exporter": "python",
   "pygments_lexer": "ipython3",
   "version": "3.7.11"
  }
 },
 "nbformat": 4,
 "nbformat_minor": 5
}
